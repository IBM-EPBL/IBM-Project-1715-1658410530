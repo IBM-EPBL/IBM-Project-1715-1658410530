{
  "nbformat": 4,
  "nbformat_minor": 0,
  "metadata": {
    "colab": {
      "provenance": []
    },
    "kernelspec": {
      "name": "python3",
      "display_name": "Python 3"
    },
    "language_info": {
      "name": "python"
    }
  },
  "cells": [
    {
      "cell_type": "code",
      "execution_count": 8,
      "metadata": {
        "id": "kJICPC-WbGPk"
      },
      "outputs": [],
      "source": [
        "!pip install -q kaggle"
      ]
    },
    {
      "cell_type": "code",
      "source": [
        "!mkdir ~/.kaggle"
      ],
      "metadata": {
        "colab": {
          "base_uri": "https://localhost:8080/"
        },
        "id": "xQGnqMiVbXzA",
        "outputId": "a5b6d549-612a-437c-eaa5-a53f234f327d"
      },
      "execution_count": 9,
      "outputs": [
        {
          "output_type": "stream",
          "name": "stdout",
          "text": [
            "mkdir: cannot create directory ‘/root/.kaggle’: File exists\n"
          ]
        }
      ]
    },
    {
      "cell_type": "code",
      "source": [
        "!cp kaggle.json ~/.kaggle"
      ],
      "metadata": {
        "id": "GORnXcNkbilo"
      },
      "execution_count": 10,
      "outputs": []
    },
    {
      "cell_type": "code",
      "source": [
        "!kaggle datasets download -d apoorvaappz/global-super-store-dataset"
      ],
      "metadata": {
        "id": "TQajPqjyb6qQ",
        "colab": {
          "base_uri": "https://localhost:8080/"
        },
        "outputId": "97990e31-e7b4-404b-9139-0625e6fb1b4c"
      },
      "execution_count": 11,
      "outputs": [
        {
          "output_type": "stream",
          "name": "stdout",
          "text": [
            "Warning: Your Kaggle API key is readable by other users on this system! To fix this, you can run 'chmod 600 /root/.kaggle/kaggle.json'\n",
            "global-super-store-dataset.zip: Skipping, found more recently modified local copy (use --force to force download)\n"
          ]
        }
      ]
    },
    {
      "cell_type": "code",
      "source": [
        "!unzip /content/global-super-store-dataset.zip"
      ],
      "metadata": {
        "colab": {
          "base_uri": "https://localhost:8080/"
        },
        "id": "mQ8fDhWEcRx8",
        "outputId": "2f56a86d-6f74-4056-a2cf-5b1011682c72"
      },
      "execution_count": 12,
      "outputs": [
        {
          "output_type": "stream",
          "name": "stdout",
          "text": [
            "Archive:  /content/global-super-store-dataset.zip\n",
            "replace Global_Superstore2.csv? [y]es, [n]o, [A]ll, [N]one, [r]ename: A\n",
            "  inflating: Global_Superstore2.csv  \n",
            "  inflating: Global_Superstore2.xlsx  \n"
          ]
        }
      ]
    }
  ]
}